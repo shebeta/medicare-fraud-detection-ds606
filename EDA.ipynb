{
 "cells": [
  {
   "cell_type": "code",
   "execution_count": 1,
   "id": "40d96db7-bcd3-4407-939b-fbc10e3bbfe2",
   "metadata": {},
   "outputs": [
    {
     "data": {
      "text/plain": [
       "((558211, 55),\n",
       "       BeneID   ClaimID ClaimStartDt  ClaimEndDt  Provider  \\\n",
       " 0  BENE11001  CLM46614   2009-04-12  2009-04-18  PRV55912   \n",
       " 1  BENE11001  CLM66048   2009-08-31  2009-09-02  PRV55907   \n",
       " 2  BENE11001  CLM68358   2009-09-17  2009-09-20  PRV56046   \n",
       " 3  BENE11011  CLM38412   2009-02-14  2009-02-22  PRV52405   \n",
       " 4  BENE11014  CLM63689   2009-08-13  2009-08-30  PRV56614   \n",
       " \n",
       "    InscClaimAmtReimbursed AttendingPhysician OperatingPhysician  \\\n",
       " 0                   26000          PHY390922                NaN   \n",
       " 1                    5000          PHY318495          PHY318495   \n",
       " 2                    5000          PHY372395                NaN   \n",
       " 3                    5000          PHY369659          PHY392961   \n",
       " 4                   10000          PHY379376          PHY398258   \n",
       " \n",
       "   OtherPhysician AdmissionDt  ... ChronicCond_Depression  \\\n",
       " 0            NaN  2009-04-12  ...                      1   \n",
       " 1            NaN  2009-08-31  ...                      1   \n",
       " 2      PHY324689  2009-09-17  ...                      1   \n",
       " 3      PHY349768  2009-02-14  ...                      1   \n",
       " 4            NaN  2009-08-13  ...                      1   \n",
       " \n",
       "    ChronicCond_Diabetes ChronicCond_IschemicHeart ChronicCond_Osteoporasis  \\\n",
       " 0                     1                         1                        2   \n",
       " 1                     1                         1                        2   \n",
       " 2                     1                         1                        2   \n",
       " 3                     1                         2                        2   \n",
       " 4                     2                         1                        2   \n",
       " \n",
       "   ChronicCond_rheumatoidarthritis ChronicCond_stroke IPAnnualReimbursementAmt  \\\n",
       " 0                               1                  1                    36000   \n",
       " 1                               1                  1                    36000   \n",
       " 2                               1                  1                    36000   \n",
       " 3                               1                  1                     5000   \n",
       " 4                               2                  2                    21260   \n",
       " \n",
       "   IPAnnualDeductibleAmt OPAnnualReimbursementAmt OPAnnualDeductibleAmt  \n",
       " 0                  3204                       60                    70  \n",
       " 1                  3204                       60                    70  \n",
       " 2                  3204                       60                    70  \n",
       " 3                  1068                      250                   320  \n",
       " 4                  2136                      120                   100  \n",
       " \n",
       " [5 rows x 55 columns])"
      ]
     },
     "execution_count": 1,
     "metadata": {},
     "output_type": "execute_result"
    }
   ],
   "source": [
    "import pandas as pd\n",
    "\n",
    "# Load training data files\n",
    "df_train = pd.read_csv('Train-1542865627584.csv')\n",
    "df_bene = pd.read_csv('Train_Beneficiarydata-1542865627584.csv')\n",
    "df_inpat = pd.read_csv('Train_Inpatientdata-1542865627584.csv')\n",
    "df_outpat = pd.read_csv('Train_Outpatientdata-1542865627584.csv')\n",
    "\n",
    "# Concatenate inpatient and outpatient data\n",
    "df_claims = pd.concat([df_inpat, df_outpat], axis=0, ignore_index=True)\n",
    "\n",
    "# Merge all into one DataFrame\n",
    "df_merged = df_claims.merge(df_train, on='Provider', how='left')\n",
    "df_merged = df_merged.merge(df_bene, on='BeneID', how='left')\n",
    "\n",
    "# Confirm shape and preview\n",
    "df_merged.shape, df_merged.head()"
   ]
  },
  {
   "cell_type": "code",
   "execution_count": null,
   "id": "d4bd8293-555c-4c0b-b5da-5543e9518a92",
   "metadata": {},
   "outputs": [],
   "source": []
  }
 ],
 "metadata": {
  "kernelspec": {
   "display_name": "Python 3 (ipykernel)",
   "language": "python",
   "name": "python3"
  },
  "language_info": {
   "codemirror_mode": {
    "name": "ipython",
    "version": 3
   },
   "file_extension": ".py",
   "mimetype": "text/x-python",
   "name": "python",
   "nbconvert_exporter": "python",
   "pygments_lexer": "ipython3",
   "version": "3.13.5"
  }
 },
 "nbformat": 4,
 "nbformat_minor": 5
}
